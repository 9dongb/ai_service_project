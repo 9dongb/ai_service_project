{
 "cells": [
  {
   "cell_type": "code",
   "execution_count": 9,
   "metadata": {},
   "outputs": [
    {
     "name": "stdout",
     "output_type": "stream",
     "text": [
      "Found 316 images belonging to 4 classes.\n",
      "Found 76 images belonging to 4 classes.\n"
     ]
    }
   ],
   "source": [
    "import tensorflow as tf\n",
    "\n",
    "training_dir = 'code/imgs/face_training'\n",
    "validation_dir = 'code/imgs/face_validation'\n",
    "\n",
    "train_datagen = tf.keras.preprocessing.image.ImageDataGenerator(\n",
    "    rescale=1/255,\n",
    "    rotation_range=40,\n",
    "    width_shift_range=0.2,\n",
    "    height_shift_range=0.2,\n",
    "    shear_range=0.2,\n",
    "    zoom_range=0.2,\n",
    "    horizontal_flip=True,\n",
    "    fill_mode='nearest')\n",
    "validation_datagen = tf.keras.preprocessing.image.ImageDataGenerator(rescale=1/255)\n",
    "\n",
    "train_generator = train_datagen.flow_from_directory(\n",
    "    training_dir,\n",
    "    # Inception V3 입력 크기 150*150\n",
    "    target_size=(150, 150),\n",
    "    class_mode='categorical')\n",
    "\n",
    "validation_generator = validation_datagen.flow_from_directory(\n",
    "    validation_dir,\n",
    "    # Inception V3 입력 크기 150*150\n",
    "    target_size=(150, 150),\n",
    "    class_mode='categorical')\n"
   ]
  },
  {
   "cell_type": "code",
   "execution_count": 10,
   "metadata": {},
   "outputs": [],
   "source": [
    "# import urllib\n",
    "\n",
    "\n",
    "# weights_url = 'https://storage.googleapis.com/mledu-datasets/inception_v3_weights_tf_dim_ordering_tf_kernels_notop.h5'\n",
    "# weights_file = 'models/inception_v3.h5'\n",
    "\n",
    "# # weights_url에서 파일을 가져와 weights_file이라는 이름으로 저장\n",
    "# urllib.request.urlretrieve(weights_url, weights_file)\n",
    "\n",
    "weights_file = 'code/models/inception_v3.h5'\n",
    "\n",
    "# Inception V3 신경망 모델 생성\n",
    "pre_trained_model = tf.keras.applications.inception_v3.InceptionV3(\n",
    "    input_shape=(150, 150, 3),\n",
    "    include_top=False,\n",
    "    weights=None)\n",
    "\n",
    "# 생성된 모델에 가져온 가중치 부여\n",
    "pre_trained_model.load_weights(weights_file)"
   ]
  },
  {
   "cell_type": "code",
   "execution_count": null,
   "metadata": {},
   "outputs": [],
   "source": [
    "# 모델 정보 출력\n",
    "pre_trained_model.summary()"
   ]
  },
  {
   "cell_type": "code",
   "execution_count": 14,
   "metadata": {},
   "outputs": [
    {
     "name": "stdout",
     "output_type": "stream",
     "text": [
      "Epoch 1/40\n",
      "\u001b[1m10/10\u001b[0m \u001b[32m━━━━━━━━━━━━━━━━━━━━\u001b[0m\u001b[37m\u001b[0m \u001b[1m7s\u001b[0m 403ms/step - acc: 0.2916 - loss: 2.7507 - val_acc: 0.4605 - val_loss: 1.3956\n",
      "Epoch 2/40\n",
      "\u001b[1m10/10\u001b[0m \u001b[32m━━━━━━━━━━━━━━━━━━━━\u001b[0m\u001b[37m\u001b[0m \u001b[1m3s\u001b[0m 265ms/step - acc: 0.4097 - loss: 1.2557 - val_acc: 0.5263 - val_loss: 1.0201\n",
      "Epoch 3/40\n",
      "\u001b[1m10/10\u001b[0m \u001b[32m━━━━━━━━━━━━━━━━━━━━\u001b[0m\u001b[37m\u001b[0m \u001b[1m4s\u001b[0m 274ms/step - acc: 0.4283 - loss: 1.2218 - val_acc: 0.6842 - val_loss: 0.8702\n",
      "Epoch 4/40\n",
      "\u001b[1m10/10\u001b[0m \u001b[32m━━━━━━━━━━━━━━━━━━━━\u001b[0m\u001b[37m\u001b[0m \u001b[1m4s\u001b[0m 265ms/step - acc: 0.6104 - loss: 0.8754 - val_acc: 0.6316 - val_loss: 0.9670\n",
      "Epoch 5/40\n",
      "\u001b[1m10/10\u001b[0m \u001b[32m━━━━━━━━━━━━━━━━━━━━\u001b[0m\u001b[37m\u001b[0m \u001b[1m4s\u001b[0m 271ms/step - acc: 0.6447 - loss: 0.9188 - val_acc: 0.4868 - val_loss: 1.1729\n",
      "Epoch 6/40\n",
      "\u001b[1m10/10\u001b[0m \u001b[32m━━━━━━━━━━━━━━━━━━━━\u001b[0m\u001b[37m\u001b[0m \u001b[1m4s\u001b[0m 288ms/step - acc: 0.6463 - loss: 0.8438 - val_acc: 0.6579 - val_loss: 0.8203\n",
      "Epoch 7/40\n",
      "\u001b[1m10/10\u001b[0m \u001b[32m━━━━━━━━━━━━━━━━━━━━\u001b[0m\u001b[37m\u001b[0m \u001b[1m3s\u001b[0m 266ms/step - acc: 0.6049 - loss: 0.9231 - val_acc: 0.6579 - val_loss: 0.7886\n",
      "Epoch 8/40\n",
      "\u001b[1m10/10\u001b[0m \u001b[32m━━━━━━━━━━━━━━━━━━━━\u001b[0m\u001b[37m\u001b[0m \u001b[1m3s\u001b[0m 266ms/step - acc: 0.6862 - loss: 0.8016 - val_acc: 0.6447 - val_loss: 0.7368\n",
      "Epoch 9/40\n",
      "\u001b[1m10/10\u001b[0m \u001b[32m━━━━━━━━━━━━━━━━━━━━\u001b[0m\u001b[37m\u001b[0m \u001b[1m3s\u001b[0m 266ms/step - acc: 0.6413 - loss: 0.7629 - val_acc: 0.7500 - val_loss: 0.5642\n",
      "Epoch 10/40\n",
      "\u001b[1m10/10\u001b[0m \u001b[32m━━━━━━━━━━━━━━━━━━━━\u001b[0m\u001b[37m\u001b[0m \u001b[1m4s\u001b[0m 279ms/step - acc: 0.7878 - loss: 0.6454 - val_acc: 0.7237 - val_loss: 0.7376\n",
      "Epoch 11/40\n",
      "\u001b[1m10/10\u001b[0m \u001b[32m━━━━━━━━━━━━━━━━━━━━\u001b[0m\u001b[37m\u001b[0m \u001b[1m3s\u001b[0m 279ms/step - acc: 0.6860 - loss: 0.8624 - val_acc: 0.7500 - val_loss: 0.6241\n",
      "Epoch 12/40\n",
      "\u001b[1m10/10\u001b[0m \u001b[32m━━━━━━━━━━━━━━━━━━━━\u001b[0m\u001b[37m\u001b[0m \u001b[1m4s\u001b[0m 285ms/step - acc: 0.7330 - loss: 0.6476 - val_acc: 0.6579 - val_loss: 0.8180\n",
      "Epoch 13/40\n",
      "\u001b[1m10/10\u001b[0m \u001b[32m━━━━━━━━━━━━━━━━━━━━\u001b[0m\u001b[37m\u001b[0m \u001b[1m4s\u001b[0m 280ms/step - acc: 0.7423 - loss: 0.7241 - val_acc: 0.7368 - val_loss: 0.5682\n",
      "Epoch 14/40\n",
      "\u001b[1m10/10\u001b[0m \u001b[32m━━━━━━━━━━━━━━━━━━━━\u001b[0m\u001b[37m\u001b[0m \u001b[1m3s\u001b[0m 272ms/step - acc: 0.7796 - loss: 0.5632 - val_acc: 0.7632 - val_loss: 0.6019\n",
      "Epoch 15/40\n",
      "\u001b[1m10/10\u001b[0m \u001b[32m━━━━━━━━━━━━━━━━━━━━\u001b[0m\u001b[37m\u001b[0m \u001b[1m4s\u001b[0m 279ms/step - acc: 0.7627 - loss: 0.5850 - val_acc: 0.8026 - val_loss: 0.4882\n",
      "Epoch 16/40\n",
      "\u001b[1m10/10\u001b[0m \u001b[32m━━━━━━━━━━━━━━━━━━━━\u001b[0m\u001b[37m\u001b[0m \u001b[1m4s\u001b[0m 284ms/step - acc: 0.8084 - loss: 0.4998 - val_acc: 0.6579 - val_loss: 0.8140\n",
      "Epoch 17/40\n",
      "\u001b[1m10/10\u001b[0m \u001b[32m━━━━━━━━━━━━━━━━━━━━\u001b[0m\u001b[37m\u001b[0m \u001b[1m4s\u001b[0m 286ms/step - acc: 0.7188 - loss: 0.6324 - val_acc: 0.6711 - val_loss: 0.7923\n",
      "Epoch 18/40\n",
      "\u001b[1m10/10\u001b[0m \u001b[32m━━━━━━━━━━━━━━━━━━━━\u001b[0m\u001b[37m\u001b[0m \u001b[1m4s\u001b[0m 288ms/step - acc: 0.7916 - loss: 0.4935 - val_acc: 0.7895 - val_loss: 0.5791\n",
      "Epoch 19/40\n",
      "\u001b[1m10/10\u001b[0m \u001b[32m━━━━━━━━━━━━━━━━━━━━\u001b[0m\u001b[37m\u001b[0m \u001b[1m4s\u001b[0m 283ms/step - acc: 0.8216 - loss: 0.4912 - val_acc: 0.8421 - val_loss: 0.5195\n",
      "Epoch 20/40\n",
      "\u001b[1m10/10\u001b[0m \u001b[32m━━━━━━━━━━━━━━━━━━━━\u001b[0m\u001b[37m\u001b[0m \u001b[1m4s\u001b[0m 282ms/step - acc: 0.7947 - loss: 0.5321 - val_acc: 0.7632 - val_loss: 0.7031\n",
      "Epoch 21/40\n",
      "\u001b[1m10/10\u001b[0m \u001b[32m━━━━━━━━━━━━━━━━━━━━\u001b[0m\u001b[37m\u001b[0m \u001b[1m4s\u001b[0m 285ms/step - acc: 0.8190 - loss: 0.4590 - val_acc: 0.7895 - val_loss: 0.5207\n",
      "Epoch 22/40\n",
      "\u001b[1m10/10\u001b[0m \u001b[32m━━━━━━━━━━━━━━━━━━━━\u001b[0m\u001b[37m\u001b[0m \u001b[1m4s\u001b[0m 273ms/step - acc: 0.7875 - loss: 0.5271 - val_acc: 0.7763 - val_loss: 0.4943\n",
      "Epoch 23/40\n",
      "\u001b[1m10/10\u001b[0m \u001b[32m━━━━━━━━━━━━━━━━━━━━\u001b[0m\u001b[37m\u001b[0m \u001b[1m4s\u001b[0m 290ms/step - acc: 0.8049 - loss: 0.4820 - val_acc: 0.7500 - val_loss: 0.7888\n",
      "Epoch 24/40\n",
      "\u001b[1m10/10\u001b[0m \u001b[32m━━━━━━━━━━━━━━━━━━━━\u001b[0m\u001b[37m\u001b[0m \u001b[1m4s\u001b[0m 285ms/step - acc: 0.8024 - loss: 0.5580 - val_acc: 0.8026 - val_loss: 0.6110\n",
      "Epoch 25/40\n",
      "\u001b[1m10/10\u001b[0m \u001b[32m━━━━━━━━━━━━━━━━━━━━\u001b[0m\u001b[37m\u001b[0m \u001b[1m4s\u001b[0m 293ms/step - acc: 0.8499 - loss: 0.4165 - val_acc: 0.7895 - val_loss: 0.5427\n",
      "Epoch 26/40\n",
      "\u001b[1m10/10\u001b[0m \u001b[32m━━━━━━━━━━━━━━━━━━━━\u001b[0m\u001b[37m\u001b[0m \u001b[1m4s\u001b[0m 281ms/step - acc: 0.8313 - loss: 0.4241 - val_acc: 0.7895 - val_loss: 0.5724\n",
      "Epoch 27/40\n",
      "\u001b[1m10/10\u001b[0m \u001b[32m━━━━━━━━━━━━━━━━━━━━\u001b[0m\u001b[37m\u001b[0m \u001b[1m4s\u001b[0m 280ms/step - acc: 0.8554 - loss: 0.4060 - val_acc: 0.7895 - val_loss: 0.6627\n",
      "Epoch 28/40\n",
      "\u001b[1m10/10\u001b[0m \u001b[32m━━━━━━━━━━━━━━━━━━━━\u001b[0m\u001b[37m\u001b[0m \u001b[1m4s\u001b[0m 284ms/step - acc: 0.8183 - loss: 0.3896 - val_acc: 0.8289 - val_loss: 0.5359\n",
      "Epoch 29/40\n",
      "\u001b[1m10/10\u001b[0m \u001b[32m━━━━━━━━━━━━━━━━━━━━\u001b[0m\u001b[37m\u001b[0m \u001b[1m3s\u001b[0m 283ms/step - acc: 0.8201 - loss: 0.4605 - val_acc: 0.8289 - val_loss: 0.4310\n",
      "Epoch 30/40\n",
      "\u001b[1m10/10\u001b[0m \u001b[32m━━━━━━━━━━━━━━━━━━━━\u001b[0m\u001b[37m\u001b[0m \u001b[1m4s\u001b[0m 288ms/step - acc: 0.8848 - loss: 0.3558 - val_acc: 0.7500 - val_loss: 0.6612\n",
      "Epoch 31/40\n",
      "\u001b[1m10/10\u001b[0m \u001b[32m━━━━━━━━━━━━━━━━━━━━\u001b[0m\u001b[37m\u001b[0m \u001b[1m4s\u001b[0m 296ms/step - acc: 0.8080 - loss: 0.4956 - val_acc: 0.7632 - val_loss: 0.4953\n",
      "Epoch 32/40\n",
      "\u001b[1m10/10\u001b[0m \u001b[32m━━━━━━━━━━━━━━━━━━━━\u001b[0m\u001b[37m\u001b[0m \u001b[1m4s\u001b[0m 288ms/step - acc: 0.8009 - loss: 0.4314 - val_acc: 0.8158 - val_loss: 0.6352\n",
      "Epoch 33/40\n",
      "\u001b[1m10/10\u001b[0m \u001b[32m━━━━━━━━━━━━━━━━━━━━\u001b[0m\u001b[37m\u001b[0m \u001b[1m4s\u001b[0m 276ms/step - acc: 0.8115 - loss: 0.4959 - val_acc: 0.7763 - val_loss: 0.4798\n",
      "Epoch 34/40\n",
      "\u001b[1m10/10\u001b[0m \u001b[32m━━━━━━━━━━━━━━━━━━━━\u001b[0m\u001b[37m\u001b[0m \u001b[1m4s\u001b[0m 289ms/step - acc: 0.8889 - loss: 0.3204 - val_acc: 0.8158 - val_loss: 0.5950\n",
      "Epoch 35/40\n",
      "\u001b[1m10/10\u001b[0m \u001b[32m━━━━━━━━━━━━━━━━━━━━\u001b[0m\u001b[37m\u001b[0m \u001b[1m4s\u001b[0m 295ms/step - acc: 0.7955 - loss: 0.5232 - val_acc: 0.7763 - val_loss: 0.5807\n",
      "Epoch 36/40\n",
      "\u001b[1m10/10\u001b[0m \u001b[32m━━━━━━━━━━━━━━━━━━━━\u001b[0m\u001b[37m\u001b[0m \u001b[1m4s\u001b[0m 280ms/step - acc: 0.8459 - loss: 0.3913 - val_acc: 0.8158 - val_loss: 0.5707\n",
      "Epoch 37/40\n",
      "\u001b[1m10/10\u001b[0m \u001b[32m━━━━━━━━━━━━━━━━━━━━\u001b[0m\u001b[37m\u001b[0m \u001b[1m4s\u001b[0m 289ms/step - acc: 0.8937 - loss: 0.3405 - val_acc: 0.7895 - val_loss: 0.5074\n",
      "Epoch 38/40\n",
      "\u001b[1m10/10\u001b[0m \u001b[32m━━━━━━━━━━━━━━━━━━━━\u001b[0m\u001b[37m\u001b[0m \u001b[1m3s\u001b[0m 280ms/step - acc: 0.8859 - loss: 0.3406 - val_acc: 0.8553 - val_loss: 0.6836\n",
      "Epoch 39/40\n",
      "\u001b[1m10/10\u001b[0m \u001b[32m━━━━━━━━━━━━━━━━━━━━\u001b[0m\u001b[37m\u001b[0m \u001b[1m3s\u001b[0m 284ms/step - acc: 0.8871 - loss: 0.3228 - val_acc: 0.7105 - val_loss: 0.7546\n",
      "Epoch 40/40\n",
      "\u001b[1m10/10\u001b[0m \u001b[32m━━━━━━━━━━━━━━━━━━━━\u001b[0m\u001b[37m\u001b[0m \u001b[1m3s\u001b[0m 275ms/step - acc: 0.8515 - loss: 0.3779 - val_acc: 0.6842 - val_loss: 0.6940\n"
     ]
    },
    {
     "data": {
      "text/plain": [
       "<keras.src.callbacks.history.History at 0x209b6b52c20>"
      ]
     },
     "execution_count": 14,
     "metadata": {},
     "output_type": "execute_result"
    }
   ],
   "source": [
    "# 가져온 신경망의 parameter가 훈련되지 않도록 동결\n",
    "for layer in pre_trained_model.layers:\n",
    "    layer.trainable = False\n",
    "\n",
    "# mixed7 층의 마지막 출력을 가리키는 변수 생성\n",
    "last_layer = pre_trained_model.get_layer('mixed7')\n",
    "last_output = last_layer.output\n",
    "\n",
    "# 출력 펼치기\n",
    "x = tf.keras.layers.Flatten()(last_output)\n",
    "# Dense 층 추가\n",
    "x = tf.keras.layers.Dense(1024, activation='relu')(x)\n",
    "# 다중 분류를 위해 소프트맥스 함수를 사용한 출력층 생성\n",
    "x = tf.keras.layers.Dense(4, activation='softmax')(x)\n",
    "\n",
    "# 모델 생성\n",
    "model = tf.keras.Model(pre_trained_model.input, x)\n",
    "\n",
    "# 훈련 방법 설정\n",
    "model.compile(optimizer=tf.keras.optimizers.RMSprop(learning_rate=0.0001),\n",
    "              loss='categorical_crossentropy',\n",
    "              metrics=['acc'])\n",
    "\n",
    "# 훈련 시작\n",
    "model.fit(train_generator, epochs=40, validation_data=validation_generator)"
   ]
  },
  {
   "cell_type": "code",
   "execution_count": 81,
   "metadata": {},
   "outputs": [
    {
     "name": "stdout",
     "output_type": "stream",
     "text": [
      "\u001b[1m1/1\u001b[0m \u001b[32m━━━━━━━━━━━━━━━━━━━━\u001b[0m\u001b[37m\u001b[0m \u001b[1m0s\u001b[0m 48ms/step\n"
     ]
    },
    {
     "data": {
      "text/plain": [
       "array([[3.1007734e-05, 1.3918097e-02, 9.2667090e-03, 9.7678417e-01]],\n",
       "      dtype=float32)"
      ]
     },
     "execution_count": 81,
     "metadata": {},
     "output_type": "execute_result"
    }
   ],
   "source": [
    "import cv2\n",
    "import numpy as np\n",
    "\n",
    "# 이미지 로드\n",
    "image = cv2.imread('code/imgs/predict/GuDongBin_faces/bin.jpg')\n",
    "\n",
    "# # 이미지 크기 조정 (150, 150)으로 조정\n",
    "# image = cv2.resize(image, (150, 150))\n",
    "\n",
    "# 모델이 기대하는 형태로 차원 추가 (batch 차원 추가)\n",
    "input_image = np.expand_dims(image, axis=0)\n",
    "\n",
    "# 이미지를 0과 1사이의 값으로 조정 (정규화)\n",
    "input_image = input_image/255.0\n",
    "\n",
    "# 입력 이미지에 대한 예측\n",
    "model.predict(input_image)"
   ]
  },
  {
   "cell_type": "code",
   "execution_count": 82,
   "metadata": {},
   "outputs": [
    {
     "name": "stdout",
     "output_type": "stream",
     "text": [
      "\u001b[1m1/1\u001b[0m \u001b[32m━━━━━━━━━━━━━━━━━━━━\u001b[0m\u001b[37m\u001b[0m \u001b[1m0s\u001b[0m 34ms/step\n",
      "당신이 서강준일 확률은 0.93% 입니다!\n"
     ]
    }
   ],
   "source": [
    "pred = model.predict(input_image)\n",
    "\n",
    "# 학습시켰던 연예인 이름 레이블\n",
    "class_labels = ['이승기', '남주혁', '박보영', '서강준']\n",
    "\n",
    "# 가장 큰 원소의 인덱스를 반환\n",
    "predict_class_index = np.argmax(pred)\n",
    "\n",
    "# 가장 높은 확률을 가진 클래스의 레이블명 반환\n",
    "predict_label = class_labels[predict_class_index]\n",
    "\n",
    "print(f'당신이 {predict_label}일 확률은 {round(pred[0][2] * 100, 2)}% 입니다!')"
   ]
  },
  {
   "cell_type": "code",
   "execution_count": null,
   "metadata": {},
   "outputs": [],
   "source": []
  }
 ],
 "metadata": {
  "kernelspec": {
   "display_name": "cv",
   "language": "python",
   "name": "python3"
  },
  "language_info": {
   "codemirror_mode": {
    "name": "ipython",
    "version": 3
   },
   "file_extension": ".py",
   "mimetype": "text/x-python",
   "name": "python",
   "nbconvert_exporter": "python",
   "pygments_lexer": "ipython3",
   "version": "3.10.13"
  }
 },
 "nbformat": 4,
 "nbformat_minor": 2
}
