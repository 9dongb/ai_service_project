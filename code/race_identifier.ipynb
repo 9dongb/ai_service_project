{
  "cells": [
    {
      "cell_type": "code",
      "source": [
        "from google.colab import drive\n",
        "drive.mount('/content/drive')"
      ],
      "metadata": {
        "colab": {
          "base_uri": "https://localhost:8080/"
        },
        "id": "ciaJpM8Op5om",
        "outputId": "a18ea057-55a1-427b-f62f-e6dd64b92282"
      },
      "execution_count": 44,
      "outputs": [
        {
          "output_type": "stream",
          "name": "stdout",
          "text": [
            "Drive already mounted at /content/drive; to attempt to forcibly remount, call drive.mount(\"/content/drive\", force_remount=True).\n"
          ]
        }
      ]
    },
    {
      "cell_type": "code",
      "execution_count": 45,
      "metadata": {
        "id": "GNPqtPHfp07o"
      },
      "outputs": [],
      "source": [
        "from tensorflow.keras.applications import InceptionV3\n",
        "from tensorflow.keras.optimizers import Adam"
      ]
    },
    {
      "cell_type": "code",
      "execution_count": 46,
      "metadata": {
        "id": "IPxU0zUop07q"
      },
      "outputs": [],
      "source": [
        "from tensorflow import keras\n",
        "from tensorflow.keras import Model\n",
        "from keras.layers import Dense\n",
        "\n",
        "# 사저학습된 인셉션V3 모델 로드\n",
        "base_model = InceptionV3(weights='imagenet', include_top=False, pooling='max')\n",
        "\n",
        "# 드롭아웃\n",
        "# x = Dropout(0.2)(base_model.output)\n",
        "\n",
        "# 출력층을 클래스 수에 맞게 수정, 다중 분류로 소프트맥스 함수 사용\n",
        "output = Dense(4, activation='softmax')(base_model.output)\n",
        "model = Model(inputs=base_model.input, outputs=output)"
      ]
    },
    {
      "cell_type": "code",
      "execution_count": 47,
      "metadata": {
        "colab": {
          "base_uri": "https://localhost:8080/"
        },
        "id": "s1XnfJh1p07q",
        "outputId": "dcb51f51-38ef-46c0-8590-b5ae5fe7a4d9"
      },
      "outputs": [
        {
          "output_type": "stream",
          "name": "stdout",
          "text": [
            "Found 681 images belonging to 4 classes.\n",
            "Found 289 images belonging to 4 classes.\n"
          ]
        }
      ],
      "source": [
        "from tensorflow.keras.preprocessing.image import ImageDataGenerator\n",
        "\n",
        "# 데이터 전처리\n",
        "datagen = ImageDataGenerator(\n",
        "    rescale=1./255,\n",
        "    shear_range=0.2,\n",
        "    zoom_range=0.2,\n",
        "    horizontal_flip=True,\n",
        "    validation_split=0.3)\n",
        "\n",
        "# 데이터 불러오기 및 전처리\n",
        "data_dir = '/content/drive/MyDrive/Colab Notebooks/archive'\n",
        "train_generator = datagen.flow_from_directory(\n",
        "    data_dir,\n",
        "    target_size=(224, 224),\n",
        "    batch_size=32,\n",
        "    class_mode='categorical',\n",
        "    subset='training')\n",
        "\n",
        "validation_generator = datagen.flow_from_directory(\n",
        "    data_dir,\n",
        "    target_size=(224, 224),\n",
        "    batch_size=32,\n",
        "    class_mode='categorical',\n",
        "    subset='validation')"
      ]
    },
    {
      "cell_type": "code",
      "execution_count": 48,
      "metadata": {
        "colab": {
          "base_uri": "https://localhost:8080/"
        },
        "id": "I3yxQORfp07q",
        "outputId": "03fa49fe-69a6-4823-fb60-9186af0132d7"
      },
      "outputs": [
        {
          "output_type": "stream",
          "name": "stdout",
          "text": [
            "Epoch 1/50\n",
            "21/21 [==============================] - 48s 893ms/step - loss: 1.7507 - accuracy: 0.4314 - val_loss: 1.8749 - val_accuracy: 0.5556\n",
            "Epoch 2/50\n",
            "21/21 [==============================] - 17s 825ms/step - loss: 0.7086 - accuracy: 0.7442 - val_loss: 1.1783 - val_accuracy: 0.5972\n",
            "Epoch 3/50\n",
            "21/21 [==============================] - 19s 923ms/step - loss: 0.3599 - accuracy: 0.8795 - val_loss: 1.1671 - val_accuracy: 0.6701\n",
            "Epoch 4/50\n",
            "21/21 [==============================] - 18s 840ms/step - loss: 0.2903 - accuracy: 0.8968 - val_loss: 0.9694 - val_accuracy: 0.7222\n",
            "Epoch 5/50\n",
            "21/21 [==============================] - 17s 833ms/step - loss: 0.1906 - accuracy: 0.9353 - val_loss: 0.9342 - val_accuracy: 0.7396\n",
            "Epoch 6/50\n",
            "21/21 [==============================] - 17s 827ms/step - loss: 0.1376 - accuracy: 0.9569 - val_loss: 0.7719 - val_accuracy: 0.7500\n",
            "Epoch 7/50\n",
            "21/21 [==============================] - 23s 1s/step - loss: 0.1133 - accuracy: 0.9676 - val_loss: 0.7830 - val_accuracy: 0.7778\n",
            "Epoch 8/50\n",
            "21/21 [==============================] - 17s 818ms/step - loss: 0.0854 - accuracy: 0.9753 - val_loss: 0.7131 - val_accuracy: 0.7743\n",
            "Epoch 9/50\n",
            "21/21 [==============================] - 19s 875ms/step - loss: 0.0820 - accuracy: 0.9753 - val_loss: 0.7014 - val_accuracy: 0.7951\n",
            "Epoch 10/50\n",
            "21/21 [==============================] - 17s 818ms/step - loss: 0.0499 - accuracy: 0.9877 - val_loss: 0.8363 - val_accuracy: 0.7569\n",
            "Epoch 11/50\n",
            "21/21 [==============================] - 18s 835ms/step - loss: 0.0587 - accuracy: 0.9831 - val_loss: 0.7238 - val_accuracy: 0.7674\n",
            "Epoch 12/50\n",
            "21/21 [==============================] - 17s 834ms/step - loss: 0.0460 - accuracy: 0.9908 - val_loss: 0.7378 - val_accuracy: 0.8056\n",
            "Epoch 13/50\n",
            "21/21 [==============================] - 19s 898ms/step - loss: 0.0654 - accuracy: 0.9753 - val_loss: 0.6840 - val_accuracy: 0.7951\n",
            "Epoch 14/50\n",
            "21/21 [==============================] - 17s 824ms/step - loss: 0.0315 - accuracy: 0.9938 - val_loss: 0.6950 - val_accuracy: 0.7847\n",
            "Epoch 15/50\n",
            "21/21 [==============================] - 19s 913ms/step - loss: 0.0430 - accuracy: 0.9861 - val_loss: 0.6729 - val_accuracy: 0.8125\n",
            "Epoch 16/50\n",
            "21/21 [==============================] - 17s 830ms/step - loss: 0.0712 - accuracy: 0.9815 - val_loss: 0.6780 - val_accuracy: 0.8229\n",
            "Epoch 17/50\n",
            "21/21 [==============================] - 19s 898ms/step - loss: 0.0493 - accuracy: 0.9831 - val_loss: 0.7176 - val_accuracy: 0.7882\n",
            "Epoch 18/50\n",
            "21/21 [==============================] - 17s 829ms/step - loss: 0.0444 - accuracy: 0.9831 - val_loss: 0.7554 - val_accuracy: 0.7812\n",
            "Epoch 19/50\n",
            "21/21 [==============================] - 17s 827ms/step - loss: 0.0321 - accuracy: 0.9892 - val_loss: 0.6638 - val_accuracy: 0.8125\n",
            "Epoch 20/50\n",
            "21/21 [==============================] - 18s 874ms/step - loss: 0.0307 - accuracy: 0.9908 - val_loss: 0.6387 - val_accuracy: 0.8229\n",
            "Epoch 21/50\n",
            "21/21 [==============================] - 17s 834ms/step - loss: 0.0212 - accuracy: 0.9954 - val_loss: 0.5750 - val_accuracy: 0.8368\n",
            "Epoch 22/50\n",
            "21/21 [==============================] - 18s 883ms/step - loss: 0.0179 - accuracy: 0.9954 - val_loss: 0.6882 - val_accuracy: 0.8090\n",
            "Epoch 23/50\n",
            "21/21 [==============================] - 18s 843ms/step - loss: 0.0207 - accuracy: 0.9954 - val_loss: 0.6170 - val_accuracy: 0.8090\n",
            "Epoch 24/50\n",
            "21/21 [==============================] - 17s 836ms/step - loss: 0.0239 - accuracy: 0.9954 - val_loss: 0.6331 - val_accuracy: 0.8056\n",
            "Epoch 25/50\n",
            "21/21 [==============================] - 18s 840ms/step - loss: 0.0119 - accuracy: 1.0000 - val_loss: 0.6225 - val_accuracy: 0.8125\n",
            "Epoch 26/50\n",
            "21/21 [==============================] - 17s 822ms/step - loss: 0.0115 - accuracy: 0.9969 - val_loss: 0.6346 - val_accuracy: 0.8333\n",
            "Epoch 27/50\n",
            "21/21 [==============================] - 18s 871ms/step - loss: 0.0212 - accuracy: 0.9923 - val_loss: 0.6725 - val_accuracy: 0.8194\n",
            "Epoch 28/50\n",
            "21/21 [==============================] - 17s 822ms/step - loss: 0.0111 - accuracy: 0.9969 - val_loss: 0.6768 - val_accuracy: 0.8056\n",
            "Epoch 29/50\n",
            "21/21 [==============================] - 18s 848ms/step - loss: 0.0132 - accuracy: 0.9938 - val_loss: 0.7296 - val_accuracy: 0.8194\n",
            "Epoch 30/50\n",
            "21/21 [==============================] - 17s 837ms/step - loss: 0.0097 - accuracy: 0.9985 - val_loss: 0.7215 - val_accuracy: 0.7743\n",
            "Epoch 31/50\n",
            "21/21 [==============================] - 18s 845ms/step - loss: 0.0237 - accuracy: 0.9892 - val_loss: 0.7516 - val_accuracy: 0.8021\n",
            "Epoch 32/50\n",
            "21/21 [==============================] - 18s 848ms/step - loss: 0.0099 - accuracy: 0.9985 - val_loss: 0.7361 - val_accuracy: 0.8090\n",
            "Epoch 33/50\n",
            "21/21 [==============================] - 18s 842ms/step - loss: 0.0087 - accuracy: 0.9985 - val_loss: 0.6228 - val_accuracy: 0.8194\n",
            "Epoch 34/50\n",
            "21/21 [==============================] - 18s 880ms/step - loss: 0.0286 - accuracy: 0.9923 - val_loss: 0.6602 - val_accuracy: 0.8333\n",
            "Epoch 35/50\n",
            "21/21 [==============================] - 18s 838ms/step - loss: 0.0233 - accuracy: 0.9923 - val_loss: 0.6522 - val_accuracy: 0.8229\n",
            "Epoch 36/50\n",
            "21/21 [==============================] - 17s 828ms/step - loss: 0.0130 - accuracy: 0.9969 - val_loss: 0.6610 - val_accuracy: 0.8194\n",
            "Epoch 37/50\n",
            "21/21 [==============================] - 18s 859ms/step - loss: 0.0134 - accuracy: 0.9969 - val_loss: 0.7059 - val_accuracy: 0.8229\n",
            "Epoch 38/50\n",
            "21/21 [==============================] - 17s 825ms/step - loss: 0.0072 - accuracy: 0.9985 - val_loss: 0.6400 - val_accuracy: 0.8299\n",
            "Epoch 39/50\n",
            "21/21 [==============================] - 17s 821ms/step - loss: 0.0148 - accuracy: 0.9938 - val_loss: 0.6497 - val_accuracy: 0.8299\n",
            "Epoch 40/50\n",
            "21/21 [==============================] - 17s 825ms/step - loss: 0.0292 - accuracy: 0.9892 - val_loss: 0.8838 - val_accuracy: 0.7986\n",
            "Epoch 41/50\n",
            "21/21 [==============================] - 19s 925ms/step - loss: 0.0555 - accuracy: 0.9815 - val_loss: 0.9335 - val_accuracy: 0.7917\n",
            "Epoch 42/50\n",
            "21/21 [==============================] - 17s 816ms/step - loss: 0.0193 - accuracy: 0.9954 - val_loss: 0.7274 - val_accuracy: 0.8194\n",
            "Epoch 43/50\n",
            "21/21 [==============================] - 23s 1s/step - loss: 0.0256 - accuracy: 0.9954 - val_loss: 0.7658 - val_accuracy: 0.8194\n",
            "Epoch 44/50\n",
            "21/21 [==============================] - 17s 821ms/step - loss: 0.0271 - accuracy: 0.9861 - val_loss: 0.8027 - val_accuracy: 0.8090\n",
            "Epoch 45/50\n",
            "21/21 [==============================] - 23s 1s/step - loss: 0.0249 - accuracy: 0.9938 - val_loss: 0.7560 - val_accuracy: 0.8125\n",
            "Epoch 46/50\n",
            "21/21 [==============================] - 17s 836ms/step - loss: 0.0074 - accuracy: 0.9985 - val_loss: 0.6007 - val_accuracy: 0.8368\n",
            "Epoch 47/50\n",
            "21/21 [==============================] - 23s 1s/step - loss: 0.0155 - accuracy: 0.9954 - val_loss: 0.6454 - val_accuracy: 0.8299\n",
            "Epoch 48/50\n",
            "21/21 [==============================] - 19s 890ms/step - loss: 0.0138 - accuracy: 0.9969 - val_loss: 0.6388 - val_accuracy: 0.8368\n",
            "Epoch 49/50\n",
            "21/21 [==============================] - 17s 822ms/step - loss: 0.0179 - accuracy: 0.9938 - val_loss: 0.7979 - val_accuracy: 0.8299\n",
            "Epoch 50/50\n",
            "21/21 [==============================] - 19s 891ms/step - loss: 0.0154 - accuracy: 0.9954 - val_loss: 0.6080 - val_accuracy: 0.8333\n",
            "Epoch 1, Train Accuracy: 0.43143296241760254, Validation Accuracy: 0.5555555820465088\n",
            "Epoch 2, Train Accuracy: 0.7442218661308289, Validation Accuracy: 0.5972222089767456\n",
            "Epoch 3, Train Accuracy: 0.8794642686843872, Validation Accuracy: 0.6701388955116272\n",
            "Epoch 4, Train Accuracy: 0.8967642784118652, Validation Accuracy: 0.7222222089767456\n",
            "Epoch 5, Train Accuracy: 0.9352850317955017, Validation Accuracy: 0.7395833134651184\n",
            "Epoch 6, Train Accuracy: 0.9568567276000977, Validation Accuracy: 0.75\n",
            "Epoch 7, Train Accuracy: 0.9676425457000732, Validation Accuracy: 0.7777777910232544\n",
            "Epoch 8, Train Accuracy: 0.9753466844558716, Validation Accuracy: 0.7743055820465088\n",
            "Epoch 9, Train Accuracy: 0.9753466844558716, Validation Accuracy: 0.7951388955116272\n",
            "Epoch 10, Train Accuracy: 0.9876733422279358, Validation Accuracy: 0.7569444179534912\n",
            "Epoch 11, Train Accuracy: 0.9830508232116699, Validation Accuracy: 0.7673611044883728\n",
            "Epoch 12, Train Accuracy: 0.990755021572113, Validation Accuracy: 0.8055555820465088\n",
            "Epoch 13, Train Accuracy: 0.9753466844558716, Validation Accuracy: 0.7951388955116272\n",
            "Epoch 14, Train Accuracy: 0.9938367009162903, Validation Accuracy: 0.7847222089767456\n",
            "Epoch 15, Train Accuracy: 0.9861325025558472, Validation Accuracy: 0.8125\n",
            "Epoch 16, Train Accuracy: 0.9815100431442261, Validation Accuracy: 0.8229166865348816\n",
            "Epoch 17, Train Accuracy: 0.9830508232116699, Validation Accuracy: 0.7881944179534912\n",
            "Epoch 18, Train Accuracy: 0.9830508232116699, Validation Accuracy: 0.78125\n",
            "Epoch 19, Train Accuracy: 0.9892141819000244, Validation Accuracy: 0.8125\n",
            "Epoch 20, Train Accuracy: 0.990755021572113, Validation Accuracy: 0.8229166865348816\n",
            "Epoch 21, Train Accuracy: 0.9953774809837341, Validation Accuracy: 0.8368055820465088\n",
            "Epoch 22, Train Accuracy: 0.9953774809837341, Validation Accuracy: 0.8090277910232544\n",
            "Epoch 23, Train Accuracy: 0.9953774809837341, Validation Accuracy: 0.8090277910232544\n",
            "Epoch 24, Train Accuracy: 0.9953774809837341, Validation Accuracy: 0.8055555820465088\n",
            "Epoch 25, Train Accuracy: 1.0, Validation Accuracy: 0.8125\n",
            "Epoch 26, Train Accuracy: 0.9969183206558228, Validation Accuracy: 0.8333333134651184\n",
            "Epoch 27, Train Accuracy: 0.9922958612442017, Validation Accuracy: 0.8194444179534912\n",
            "Epoch 28, Train Accuracy: 0.9969183206558228, Validation Accuracy: 0.8055555820465088\n",
            "Epoch 29, Train Accuracy: 0.9938367009162903, Validation Accuracy: 0.8194444179534912\n",
            "Epoch 30, Train Accuracy: 0.9984591603279114, Validation Accuracy: 0.7743055820465088\n",
            "Epoch 31, Train Accuracy: 0.9892141819000244, Validation Accuracy: 0.8020833134651184\n",
            "Epoch 32, Train Accuracy: 0.9984591603279114, Validation Accuracy: 0.8090277910232544\n",
            "Epoch 33, Train Accuracy: 0.9984591603279114, Validation Accuracy: 0.8194444179534912\n",
            "Epoch 34, Train Accuracy: 0.9922958612442017, Validation Accuracy: 0.8333333134651184\n",
            "Epoch 35, Train Accuracy: 0.9922958612442017, Validation Accuracy: 0.8229166865348816\n",
            "Epoch 36, Train Accuracy: 0.9969183206558228, Validation Accuracy: 0.8194444179534912\n",
            "Epoch 37, Train Accuracy: 0.9969183206558228, Validation Accuracy: 0.8229166865348816\n",
            "Epoch 38, Train Accuracy: 0.9984591603279114, Validation Accuracy: 0.8298611044883728\n",
            "Epoch 39, Train Accuracy: 0.9938367009162903, Validation Accuracy: 0.8298611044883728\n",
            "Epoch 40, Train Accuracy: 0.9892141819000244, Validation Accuracy: 0.7986111044883728\n",
            "Epoch 41, Train Accuracy: 0.9815100431442261, Validation Accuracy: 0.7916666865348816\n",
            "Epoch 42, Train Accuracy: 0.9953774809837341, Validation Accuracy: 0.8194444179534912\n",
            "Epoch 43, Train Accuracy: 0.9953774809837341, Validation Accuracy: 0.8194444179534912\n",
            "Epoch 44, Train Accuracy: 0.9861325025558472, Validation Accuracy: 0.8090277910232544\n",
            "Epoch 45, Train Accuracy: 0.9938367009162903, Validation Accuracy: 0.8125\n",
            "Epoch 46, Train Accuracy: 0.9984591603279114, Validation Accuracy: 0.8368055820465088\n",
            "Epoch 47, Train Accuracy: 0.9953774809837341, Validation Accuracy: 0.8298611044883728\n",
            "Epoch 48, Train Accuracy: 0.9969183206558228, Validation Accuracy: 0.8368055820465088\n",
            "Epoch 49, Train Accuracy: 0.9938367009162903, Validation Accuracy: 0.8298611044883728\n",
            "Epoch 50, Train Accuracy: 0.9953774809837341, Validation Accuracy: 0.8333333134651184\n"
          ]
        }
      ],
      "source": [
        "# 손실함수, 옵티마이저 세팅\n",
        "model.compile(optimizer=Adam(learning_rate=0.00005), loss='categorical_crossentropy', metrics=['accuracy'])\n",
        "\n",
        "# 학습 진행\n",
        "history = model.fit(\n",
        "    train_generator,\n",
        "    steps_per_epoch = train_generator.samples // 32,\n",
        "    validation_data = validation_generator,\n",
        "    validation_steps = validation_generator.samples // 32,\n",
        "    epochs = 50)\n",
        "\n",
        "# 에포크당 정확도 출력\n",
        "for i in range(len(history.history['accuracy'])):\n",
        "    print(f\"Epoch {i+1}, Train Accuracy: {history.history['accuracy'][i]}, Validation Accuracy: {history.history['val_accuracy'][i]}\")"
      ]
    },
    {
      "cell_type": "code",
      "source": [
        "# 모델 저장\n",
        "model.save('/content/drive/MyDrive/Colab Notebooks/my_model.h5')"
      ],
      "metadata": {
        "id": "KfxALsyhqjbL"
      },
      "execution_count": 50,
      "outputs": []
    },
    {
      "cell_type": "code",
      "source": [
        "from tensorflow.keras.preprocessing import image\n",
        "import numpy as np\n",
        "\n",
        "# 내 이미지 로드\n",
        "img_path = 'profile(1.1 crop).JPG'  # replace with your image path\n",
        "img = image.load_img(img_path, target_size=(224, 224))\n",
        "\n",
        "# 이미지 전처리\n",
        "x = image.img_to_array(img)\n",
        "x = np.expand_dims(x, axis=0)\n",
        "x = x / 255.0  # rescale the same as we did for training\n",
        "\n",
        "# 예측 수행\n",
        "prediction = model.predict(x)\n",
        "\n",
        "# 확률 소수점 둘째자리 반올림\n",
        "rounded_prediction = np.around(prediction, 2)\n",
        "\n",
        "# 예측 확률 출력\n",
        "print(rounded_prediction)"
      ],
      "metadata": {
        "colab": {
          "base_uri": "https://localhost:8080/"
        },
        "id": "zLwi654js1y-",
        "outputId": "2f77fdf8-6b1e-41eb-cc18-50680ef1d6fb"
      },
      "execution_count": 56,
      "outputs": [
        {
          "output_type": "stream",
          "name": "stdout",
          "text": [
            "1/1 [==============================] - 0s 27ms/step\n",
            "[[1. 0. 0. 0.]]\n"
          ]
        }
      ]
    },
    {
      "cell_type": "code",
      "source": [
        "# 클래스 인자 획득\n",
        "class_indices = train_generator.class_indices\n",
        "\n",
        "# 클래스 이름 가져오기\n",
        "class_names = list(class_indices.keys())\n",
        "\n",
        "# 가장 확률 높은 label을 인덱싱\n",
        "predicted_class_index = np.argmax(prediction)\n",
        "\n",
        "# 나의 class는?\n",
        "predicted_class_name = class_names[predicted_class_index]\n",
        "\n",
        "print(predicted_class_name)"
      ],
      "metadata": {
        "colab": {
          "base_uri": "https://localhost:8080/"
        },
        "id": "Knx9OX3b7JRg",
        "outputId": "932ed550-9f40-4acc-eb7f-16cc5c8efda0"
      },
      "execution_count": 54,
      "outputs": [
        {
          "output_type": "stream",
          "name": "stdout",
          "text": [
            "Asian\n"
          ]
        }
      ]
    },
    {
      "cell_type": "code",
      "source": [],
      "metadata": {
        "id": "qgzroyJ87_ND"
      },
      "execution_count": null,
      "outputs": []
    }
  ],
  "metadata": {
    "language_info": {
      "name": "python"
    },
    "colab": {
      "provenance": [],
      "gpuType": "T4"
    },
    "accelerator": "GPU",
    "kernelspec": {
      "name": "python3",
      "display_name": "Python 3"
    }
  },
  "nbformat": 4,
  "nbformat_minor": 0
}