{
 "cells": [
  {
   "cell_type": "code",
   "execution_count": 5,
   "metadata": {},
   "outputs": [],
   "source": [
    "import os\n",
    "import cv2\n",
    "import numpy as np\n",
    "\n",
    "who = 'GuDongBin'\n",
    "path_dir = f\"imgs/{who}\"\n",
    "file_list = os.listdir(path_dir)# 경로의 파일명 목록을 배열로 받음 \n",
    "\n",
    "if not os.path.exists(path_dir):\n",
    "    os.mkdir(f'imgs/{who}_faces')\n",
    "\n",
    "file_name_list= []\n",
    "\n",
    "for i in range(len(file_list)): # 최종 저장 시 \"이미지명.jpg.jpg\"와 같이 확장자명이 중복되지 않게 하기 위함\n",
    "    file_name_list.append(file_list[i].replace(\".jpg\", \"\")) # 확장자 없는 파일명 리스트에 저장\n"
   ]
  },
  {
   "cell_type": "code",
   "execution_count": 2,
   "metadata": {},
   "outputs": [],
   "source": [
    "# 얼굴 부분만 추출하고 재조정한 이미지를 저장하는 함수 \n",
    "def recognition_face_save(image, name):\n",
    "    face_cascade = cv2.CascadeClassifier('models/haarcascade_frontalface_default.xml')\n",
    "    gray = cv2.cvtColor(image, cv2.COLOR_BGR2GRAY)\n",
    "    faces = face_cascade.detectMultiScale(gray, 1.3 ,5)\n",
    "\n",
    "    for (x, y, w, h) in faces: \n",
    "        # cv2.rectangle(image, (x, y), (x+w, y+h), (255, 0, 0), 2)   \n",
    "        cropped = image[y: y+h, x:x+w] # 얼굴 영역만큼 crop\n",
    "        resize = cv2.resize(cropped, (150, 150)) # 이미지 사이즈 재조정\n",
    "        cv2.imwrite(f'imgs/{who}_faces/{name}.jpg', resize)\n",
    "        # cv2.imshow('face_recognition_crop', resize)\n",
    "        # cv2.waitKey(0)\n",
    "        # cv2.destroyAllWindows()"
   ]
  },
  {
   "cell_type": "code",
   "execution_count": 3,
   "metadata": {},
   "outputs": [],
   "source": [
    "for name in file_name_list:\n",
    "    image = cv2.imread(f'imgs/{who}/{name}.jpg') # 이미지 로드\n",
    "    try:    \n",
    "        recognition_face_save(image, name)\n",
    "    except:\n",
    "        pass"
   ]
  },
  {
   "cell_type": "code",
   "execution_count": 23,
   "metadata": {},
   "outputs": [],
   "source": [
    "from module import changeImgNameToEng\n",
    "changeImgNameToEng.change(f'{who}_faces')"
   ]
  },
  {
   "cell_type": "code",
   "execution_count": 9,
   "metadata": {},
   "outputs": [],
   "source": [
    "from module import changeImgNameToEng\n",
    "changeImgNameToEng.change(f'{who}')"
   ]
  }
 ],
 "metadata": {
  "kernelspec": {
   "display_name": "base",
   "language": "python",
   "name": "python3"
  },
  "language_info": {
   "codemirror_mode": {
    "name": "ipython",
    "version": 3
   },
   "file_extension": ".py",
   "mimetype": "text/x-python",
   "name": "python",
   "nbconvert_exporter": "python",
   "pygments_lexer": "ipython3",
   "version": "3.10.13"
  }
 },
 "nbformat": 4,
 "nbformat_minor": 2
}
