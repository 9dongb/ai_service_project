{
 "cells": [
  {
   "cell_type": "code",
   "execution_count": 6,
   "id": "ff77a8afe2e1e0a6",
   "metadata": {
    "ExecuteTime": {
     "end_time": "2024-04-06T03:00:26.140718Z",
     "start_time": "2024-04-06T02:59:46.394654Z"
    }
   },
   "outputs": [
    {
     "name": "stderr",
     "output_type": "stream",
     "text": [
      "INFO:root:Screenshot taken for chrome\n"
     ]
    }
   ],
   "source": [
    "import logging\n",
    "import multiprocessing\n",
    "from selenium import webdriver\n",
    "from selenium.common.exceptions import WebDriverException\n",
    "from selenium.webdriver.chrome.options import Options as ChromeOptions\n",
    "from selenium.webdriver.common.by import By\n",
    "from selenium.webdriver.edge.options import Options as EdgeOptions\n",
    "from selenium.webdriver.firefox.options import Options as FirefoxOptions\n",
    "from selenium.webdriver.support import expected_conditions as EC\n",
    "from selenium.webdriver.support.ui import WebDriverWait\n",
    "\n",
    "# Configure logging\n",
    "logging.basicConfig(level=logging.INFO)\n",
    "# Define browser options and URLs\n",
    "browser_options = {\n",
    "    \"chrome\": ChromeOptions(),\n",
    "    \"firefox\": FirefoxOptions(),\n",
    "    \"edge\": EdgeOptions(),\n",
    "}\n",
    "hub_url = 'http://localhost:4444/wd/hub'\n",
    "\n",
    "\n",
    "# Use 'http://localhost:4444/wd/hub' for local testing.\n",
    "# If running tests on a remote hub, replace 'localhost' with the hub's IP address.\n",
    "def setup_driver(browser):\n",
    "    try:\n",
    "        options = browser_options.get(browser)\n",
    "        driver = webdriver.Remote(command_executor=hub_url, options=options)\n",
    "        return driver\n",
    "    except WebDriverException as e:\n",
    "        logging.error(f\"Error setting up {browser} WebDriver: {e}\")\n",
    "        return None\n",
    "\n",
    "\n",
    "def test_check_stable_python_version(browser):\n",
    "    driver = setup_driver(browser)\n",
    "    if driver is None:\n",
    "        return\n",
    "    try:\n",
    "        driver.get(\"https://www.selenium.dev\")\n",
    "        downloads_link = WebDriverWait(driver, 10).until(\n",
    "            EC.element_to_be_clickable((By.LINK_TEXT, \"Downloads\"))\n",
    "        )\n",
    "        downloads_link.click()\n",
    "        WebDriverWait(driver, 10).until(\n",
    "            EC.presence_of_element_located((By.XPATH, \"//p[contains(text(), 'Python')]\"))\n",
    "        )\n",
    "        # Take a screenshot when the condition is met\n",
    "        driver.save_screenshot(f\"{browser}_screenshot.png\")\n",
    "        logging.info(f\"Screenshot taken for {browser}\")\n",
    "    except Exception as e:\n",
    "        logging.error(f\"Error in {browser} test: {e}\")\n",
    "    finally:\n",
    "        driver.quit()\n",
    "\n",
    "\n",
    "if __name__ == \"__main__\":\n",
    "    browsers = [\"chrome\", \"firefox\", \"edge\"]  # Define the browsers to test\n",
    "    processes = []\n",
    "    for browser in browsers:\n",
    "        process = multiprocessing.Process(target=test_check_stable_python_version, args=(browser,))\n",
    "        processes.append(process)\n",
    "        process.start()\n",
    "    for process in processes:\n",
    "        process.join()"
   ]
  },
  {
   "cell_type": "code",
   "execution_count": 39,
   "id": "9c8ebf9dd1fb7a20",
   "metadata": {
    "ExecuteTime": {
     "end_time": "2024-04-06T04:46:47.204023Z",
     "start_time": "2024-04-06T04:46:46.692765Z"
    }
   },
   "outputs": [],
   "source": [
    "import requests, json\n",
    "\n",
    "\n",
    "def clear_sessions(session_id=None):\n",
    "    \"\"\"\n",
    "    Here we query and delete orphan sessions\n",
    "    docs: https://www.selenium.dev/documentation/grid/advanced_features/endpoints/\n",
    "    :return: None\n",
    "    \"\"\"\n",
    "    url = \"http://127.0.0.1:4444\"\n",
    "    if not session_id:\n",
    "        # delete all sessions\n",
    "        r = requests.get(\"{}/status\".format(url))\n",
    "        data = json.loads(r.text)\n",
    "        for node in data[\"value\"][\"nodes\"]:\n",
    "            for slot in node[\"slots\"]:\n",
    "                if slot[\"session\"]:\n",
    "                    id = slot[\"session\"][\"sessionId\"]\n",
    "                    r = requests.delete(\"{}/session/{}\".format(url, id))\n",
    "    else:\n",
    "        # delete session from params\n",
    "        r = requests.delete(\"{}/session/{}\".format(url, session_id))\n",
    "\n",
    "\n",
    "clear_sessions()"
   ]
  }
 ],
 "metadata": {
  "kernelspec": {
   "display_name": "Python 3",
   "language": "python",
   "name": "python3"
  },
  "language_info": {
   "codemirror_mode": {
    "name": "ipython",
    "version": 3
   },
   "file_extension": ".py",
   "mimetype": "text/x-python",
   "name": "python",
   "nbconvert_exporter": "python",
   "pygments_lexer": "ipython3",
   "version": "3.12.2"
  }
 },
 "nbformat": 4,
 "nbformat_minor": 5
}
